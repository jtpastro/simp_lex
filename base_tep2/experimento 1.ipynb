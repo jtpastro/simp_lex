{
 "cells": [
  {
   "cell_type": "code",
   "execution_count": 1,
   "metadata": {
    "collapsed": false
   },
   "outputs": [
    {
     "name": "stdout",
     "output_type": "stream",
     "text": [
      "ok\n"
     ]
    }
   ],
   "source": [
    "print \"ok\""
   ]
  },
  {
   "cell_type": "code",
   "execution_count": 3,
   "metadata": {
    "collapsed": false
   },
   "outputs": [
    {
     "data": {
      "text/plain": [
       "['[verbo]', '{subir,ascender,avultar,chegar,montar}', '<200>']"
      ]
     },
     "execution_count": 3,
     "metadata": {},
     "output_type": "execute_result"
    }
   ],
   "source": [
    "\"[verbo] {subir,ascender,avultar,chegar,montar} <200>\".split()"
   ]
  },
  {
   "cell_type": "code",
   "execution_count": 5,
   "metadata": {
    "collapsed": false
   },
   "outputs": [
    {
     "name": "stdout",
     "output_type": "stream",
     "text": [
      "1. [verbo] {subir,ascender,avultar,chegar,montar} <200>\n"
     ]
    }
   ],
   "source": [
    "seq,cat,synset,antonym = \"1. [verbo] {subir,ascender,avultar,chegar,montar} <200>\".split()\n",
    "print seq,cat,synset,antonym"
   ]
  },
  {
   "cell_type": "code",
   "execution_count": 7,
   "metadata": {
    "collapsed": false
   },
   "outputs": [
    {
     "name": "stdout",
     "output_type": "stream",
     "text": [
      "defaultdict(<type 'list'>, {'b': ['a', 'c'], '4': ['a']})\n"
     ]
    }
   ],
   "source": [
    "from collections import defaultdict\n",
    "dct = defaultdict(list)\n",
    "dct[\"b\"].append(\"a\")\n",
    "dct[\"b\"].append(\"c\")\n",
    "dct[\"4\"].append(\"a\")\n",
    "print dct"
   ]
  },
  {
   "cell_type": "code",
   "execution_count": 9,
   "metadata": {
    "collapsed": false
   },
   "outputs": [
    {
     "data": {
      "text/plain": [
       "'test'"
      ]
     },
     "execution_count": 9,
     "metadata": {},
     "output_type": "execute_result"
    }
   ],
   "source": [
    "\"teste 123\".split()[0][:-1]"
   ]
  },
  {
   "cell_type": "code",
   "execution_count": 11,
   "metadata": {
    "collapsed": false
   },
   "outputs": [
    {
     "data": {
      "text/plain": [
       "'asdf'"
      ]
     },
     "execution_count": 11,
     "metadata": {},
     "output_type": "execute_result"
    }
   ],
   "source": [
    "\"{asdf}\".strip(\"{\")\n",
    "\"{asdf}\".strip(\"{\").strip(\"}\")"
   ]
  },
  {
   "cell_type": "code",
   "execution_count": 17,
   "metadata": {
    "collapsed": false
   },
   "outputs": [
    {
     "name": "stdout",
     "output_type": "stream",
     "text": [
      "1 verbo\n",
      "[verbo] {subir, ascender, avultar, chegar, montar} <200>\n"
     ]
    }
   ],
   "source": [
    "s_entry = \"1. [verbo] {subir, ascender, avultar, chegar, montar} <200>\".split()\n",
    "seq = s_entry[0][:-1]\n",
    "cat = s_entry[1][1:-1]\n",
    "print seq, cat\n",
    "for word in s_entry[1:]:\n",
    "    print word,"
   ]
  },
  {
   "cell_type": "code",
   "execution_count": 22,
   "metadata": {
    "collapsed": false
   },
   "outputs": [
    {
     "name": "stdout",
     "output_type": "stream",
     "text": [
      "True False\n"
     ]
    }
   ],
   "source": [
    "print \"a\" in \"asdf\", \"b\" in \"asdf\""
   ]
  },
  {
   "cell_type": "code",
   "execution_count": 29,
   "metadata": {
    "collapsed": false
   },
   "outputs": [
    {
     "data": {
      "text/plain": [
       "42"
      ]
     },
     "execution_count": 29,
     "metadata": {},
     "output_type": "execute_result"
    }
   ],
   "source": [
    "int(\"42\")"
   ]
  },
  {
   "cell_type": "code",
   "execution_count": 33,
   "metadata": {
    "collapsed": false
   },
   "outputs": [
    {
     "data": {
      "text/plain": [
       "[1, 2]"
      ]
     },
     "execution_count": 33,
     "metadata": {},
     "output_type": "execute_result"
    }
   ],
   "source": [
    "[1,2,3][:-1]"
   ]
  },
  {
   "cell_type": "code",
   "execution_count": 36,
   "metadata": {
    "collapsed": false
   },
   "outputs": [],
   "source": [
    "from collections import defaultdict\n",
    "syn_group = []\n",
    "syn_dict = defaultdict(list)\n",
    "with open(\"base_tep2.txt\") as f:\n",
    "    for entry in f:\n",
    "        s_entry = entry.split()\n",
    "        seq = int(s_entry[0][:-1])-1\n",
    "        cat = s_entry[1][1:-1]\n",
    "        synset = [word.strip(\",\") for word in s_entry[2:]]\n",
    "        synset[0] = synset[0].strip(\"{\")\n",
    "        ant = -1\n",
    "        if \"<\" in synset[-1]:\n",
    "            ant += int(synset[-1].strip(\"<\").strip(\">\"))\n",
    "            synset = synset[:-1]\n",
    "        synset[-1] = synset[-1].strip(\"}\")\n",
    "        for word in synset:\n",
    "            syn_dict[word].append(seq)\n",
    "        syn_group.append([cat,synset,ant])\n"
   ]
  },
  {
   "cell_type": "code",
   "execution_count": 37,
   "metadata": {
    "collapsed": false
   },
   "outputs": [
    {
     "name": "stdout",
     "output_type": "stream",
     "text": [
      "['Verbo', ['aclarar', 'alumiar', 'clarear', 'iluminar'], -1]\n",
      "['Verbo', ['abeirar-se', 'aproximar-se', 'beirar'], 1103]\n",
      "['Verbo', ['desabeirar', 'desaproximar-se'], 42]\n"
     ]
    }
   ],
   "source": [
    "print syn_group[3]\n",
    "print syn_group[42]\n",
    "print syn_group[1103]"
   ]
  },
  {
   "cell_type": "code",
   "execution_count": 38,
   "metadata": {
    "collapsed": false
   },
   "outputs": [
    {
     "name": "stdout",
     "output_type": "stream",
     "text": [
      "[3, 1940, 2081, 2993, 3308, 3779]\n"
     ]
    }
   ],
   "source": [
    "print syn_dict[\"aclarar\"]"
   ]
  },
  {
   "cell_type": "code",
   "execution_count": 40,
   "metadata": {
    "collapsed": false
   },
   "outputs": [
    {
     "name": "stdout",
     "output_type": "stream",
     "text": [
      "['aclarar', 'alumiar', 'clarear', 'iluminar']\n",
      "['aclarar', 'alumiar', 'delucidar', 'desanuviar', 'desemaranhar', 'desembara\\xe7ar', 'dilucidar', 'elucidar', 'esclarecer', 'iluminar', 'ilustrar', 'instruir']\n",
      "['aclarar', 'descobrir', 'desembara\\xe7ar', 'desembrulhar', 'desencobrir', 'desenla\\xe7ar', 'desenredar', 'desenvencilhar', 'desla\\xe7ar', 'deslindar', 'destrin\\xe7ar', 'destrinchar', 'desvencilhar', 'desvincilhar', 'esclarecer', 'estri\\xe7ar', 'resolver', 'solucionar']\n",
      "['aclarar', 'aclarecer', 'agaloar', 'alumbrar', 'alumiar', 'clarear', 'desenegrecer', 'desentenebrecer', 'desescurecer', 'elogiar', 'enaltar', 'enaltecer', 'esclarecer', 'gabar', 'galonar', 'iluminar', 'louvar']\n",
      "['abrir', 'aclarar', 'delucidar', 'desatar', 'desvelar', 'dilucidar', 'elucidar', 'enuclear', 'esclarecer', 'explanar', 'explicar', 'expor', 'ilustrar', 'interpretar', 'liquidar', 'liq\\xfcidar', 'resolver', 'traduzir']\n",
      "['abluir', 'aclarar', 'alimpar', 'apurar', 'clarificar', 'dealbar', 'dealvar', 'depurar', 'desenxovalhar', 'emundar', 'escoimar', 'escoriar', 'escorificar', 'expurgar', 'lavar', 'limpar', 'mundificar', 'perlavar', 'purgar', 'purificar']\n"
     ]
    }
   ],
   "source": [
    "for i in syn_dict[\"aclarar\"]:\n",
    "    print syn_group[i][1]"
   ]
  },
  {
   "cell_type": "code",
   "execution_count": 41,
   "metadata": {
    "collapsed": false
   },
   "outputs": [
    {
     "name": "stdout",
     "output_type": "stream",
     "text": [
      "['desabeirar', 'desaproximar-se']\n",
      "['ablegar-se', 'afastar-se', 'alongar-se', 'alonginquar-se', 'apartar-se', 'arredar-se', 'desgrudar-se', 'desligar-se', 'distanciar-se', 'divorciar-se', 'estremar-se', 'separar-se']\n",
      "['abduzir-se', 'abjugar-se', 'abstrair-se', 'acercar-se', 'afastar-se', 'alhear-se', 'apartar-se', 'arredar-se', 'cortar-se', 'desachegar-se', 'desgarrar-se', 'desviar-se', 'esgarrar-se', 'separar-se', 'tirar-se']\n"
     ]
    }
   ],
   "source": [
    "for i in syn_dict[\"aproximar-se\"]:\n",
    "    ant = syn_group[i][-1]\n",
    "    if ant != -1:\n",
    "        print syn_group[ant][1]"
   ]
  },
  {
   "cell_type": "code",
   "execution_count": null,
   "metadata": {
    "collapsed": true
   },
   "outputs": [],
   "source": []
  }
 ],
 "metadata": {
  "kernelspec": {
   "display_name": "Python 2",
   "language": "python",
   "name": "python2"
  },
  "language_info": {
   "codemirror_mode": {
    "name": "ipython",
    "version": 2
   },
   "file_extension": ".py",
   "mimetype": "text/x-python",
   "name": "python",
   "nbconvert_exporter": "python",
   "pygments_lexer": "ipython2",
   "version": "2.7.6"
  }
 },
 "nbformat": 4,
 "nbformat_minor": 0
}

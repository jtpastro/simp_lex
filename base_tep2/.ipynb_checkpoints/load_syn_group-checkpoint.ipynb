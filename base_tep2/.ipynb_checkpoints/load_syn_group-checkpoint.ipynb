{
 "cells": [
  {
   "cell_type": "markdown",
   "metadata": {},
   "source": [
    "# Load base tep"
   ]
  },
  {
   "cell_type": "code",
   "execution_count": 5,
   "metadata": {
    "collapsed": false
   },
   "outputs": [],
   "source": [
    "from collections import defaultdict\n",
    "\n",
    "class TEP:\n",
    "    def __init__(self, filename):\n",
    "        self.syn_group = []\n",
    "        self.syn_dict = defaultdict(list)\n",
    "        with open(filename) as f:\n",
    "            for entry in f:\n",
    "                s_entry = entry.split()\n",
    "                seq = int(s_entry[0][:-1])-1\n",
    "                cat = s_entry[1][1:-1]\n",
    "                synset = [word.strip(\",\") for word in s_entry[2:]]\n",
    "                synset[0] = synset[0].strip(\"{\")\n",
    "                ant = -1\n",
    "                if \"<\" in synset[-1]:\n",
    "                    ant += int(synset[-1].strip(\"<\").strip(\">\"))\n",
    "                    synset = synset[:-1]\n",
    "                synset[-1] = synset[-1].strip(\"}\")\n",
    "                for word in synset:\n",
    "                    self.syn_dict[word].append(seq)\n",
    "                self.syn_group.append([cat,synset,ant])\n",
    "    \n",
    "    def get_synonyms(self,word):\n",
    "        return [self.syn_group[i][1] for i in self.syn_dict[word]]\n",
    "    \n",
    "    def get_antonyms(self,word):\n",
    "        ant_list = []\n",
    "        for i in self.syn_dict[word]:\n",
    "            ant = self.syn_group[i][-1]\n",
    "            if ant != -1:\n",
    "                ant_list.append(self.syn_group[ant][1])\n",
    "        return ant_list\n",
    "    \n",
    "    def get_class(self, word):\n",
    "        return self.syn_group[self.syn_dict[word][0]][0]\n",
    "        \n"
   ]
  },
  {
   "cell_type": "code",
   "execution_count": 11,
   "metadata": {
    "collapsed": false,
    "scrolled": true
   },
   "outputs": [
    {
     "name": "stdout",
     "output_type": "stream",
     "text": [
      "Antonyms:\n",
      "\n",
      " ['abaçanar', 'assetar', 'assetear', 'caluniar', 'demolir', 'denegrecer', 'denegrir', 'desacreditar', 'desafamar', 'desagaloar', 'desclassificar', 'descreditar', 'desdoirar', 'desdourar', 'deslustrar', 'desmerecer', 'desmoralizar', 'desonestar', 'desonrar', 'detrair', 'detratar', 'difamar', 'enegrecer', 'esquartejar', 'improperar', 'infamar', 'injuriar', 'macular', 'marear', 'quartejar', 'rebaixar', 'setear', 'vituperar']\n",
      "\n",
      " ['enxovalhar', 'impurificar', 'sujar']\n",
      "\n",
      "Synonyms:\n",
      "\n",
      " ['aclarar', 'alumiar', 'clarear', 'iluminar']\n",
      "\n",
      " ['aclarar', 'alumiar', 'delucidar', 'desanuviar', 'desemaranhar', 'desembaraçar', 'dilucidar', 'elucidar', 'esclarecer', 'iluminar', 'ilustrar', 'instruir']\n",
      "\n",
      " ['aclarar', 'descobrir', 'desembaraçar', 'desembrulhar', 'desencobrir', 'desenlaçar', 'desenredar', 'desenvencilhar', 'deslaçar', 'deslindar', 'destrinçar', 'destrinchar', 'desvencilhar', 'desvincilhar', 'esclarecer', 'estriçar', 'resolver', 'solucionar']\n",
      "\n",
      " ['aclarar', 'aclarecer', 'agaloar', 'alumbrar', 'alumiar', 'clarear', 'desenegrecer', 'desentenebrecer', 'desescurecer', 'elogiar', 'enaltar', 'enaltecer', 'esclarecer', 'gabar', 'galonar', 'iluminar', 'louvar']\n",
      "\n",
      " ['abrir', 'aclarar', 'delucidar', 'desatar', 'desvelar', 'dilucidar', 'elucidar', 'enuclear', 'esclarecer', 'explanar', 'explicar', 'expor', 'ilustrar', 'interpretar', 'liquidar', 'liqüidar', 'resolver', 'traduzir']\n",
      "\n",
      " ['abluir', 'aclarar', 'alimpar', 'apurar', 'clarificar', 'dealbar', 'dealvar', 'depurar', 'desenxovalhar', 'emundar', 'escoimar', 'escoriar', 'escorificar', 'expurgar', 'lavar', 'limpar', 'mundificar', 'perlavar', 'purgar', 'purificar']\n",
      "\n",
      " Verbo\n"
     ]
    }
   ],
   "source": [
    "t = TEP(\"base_tep2.txt\")\n",
    "print(\"Antonyms:\")\n",
    "for group in t.get_antonyms(\"aclarar\"):\n",
    "    print(\"\\n\", group)\n",
    "print(\"\\nSynonyms:\")\n",
    "for group in t.get_synonyms(\"aclarar\"):\n",
    "    print(\"\\n\", group)\n",
    "print(\"\\n\",t.get_class(\"aclarar\"))"
   ]
  },
  {
   "cell_type": "code",
   "execution_count": null,
   "metadata": {
    "collapsed": true
   },
   "outputs": [],
   "source": []
  }
 ],
 "metadata": {
  "kernelspec": {
   "display_name": "Python 3",
   "language": "python",
   "name": "python3"
  },
  "language_info": {
   "codemirror_mode": {
    "name": "ipython",
    "version": 3
   },
   "file_extension": ".py",
   "mimetype": "text/x-python",
   "name": "python",
   "nbconvert_exporter": "python",
   "pygments_lexer": "ipython3",
   "version": "3.5.2"
  }
 },
 "nbformat": 4,
 "nbformat_minor": 0
}

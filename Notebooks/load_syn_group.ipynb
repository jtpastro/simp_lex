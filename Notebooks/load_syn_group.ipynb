{
 "cells": [
  {
   "cell_type": "markdown",
   "metadata": {},
   "source": [
    "# Load base tep"
   ]
  },
  {
   "cell_type": "code",
   "execution_count": 50,
   "metadata": {
    "collapsed": false
   },
   "outputs": [],
   "source": [
    "from collections import defaultdict\n",
    "\n",
    "class TEP:\n",
    "    def __init__(self, filename):\n",
    "        self.syn_group = {}\n",
    "        self.syn_dict = defaultdict(list)\n",
    "        with open(filename) as f:\n",
    "            for entry in f:\n",
    "                s_entry = entry.split()\n",
    "                seq = int(s_entry[0][:-1])-1\n",
    "                cat = s_entry[1][1:-1]\n",
    "                synset = [word.strip(\",\") for word in s_entry[2:]]\n",
    "                synset[0] = synset[0].strip(\"{\")\n",
    "                ant = -1\n",
    "                if \"<\" in synset[-1]:\n",
    "                    ant += int(synset[-1].strip(\"<\").strip(\">\"))\n",
    "                    synset = synset[:-1]\n",
    "                synset[-1] = synset[-1].strip(\"}\")\n",
    "                for word in synset:\n",
    "                    self.syn_dict[word].append(seq)\n",
    "                self.syn_group[seq] = (cat,synset,ant)\n",
    "    \n",
    "    def get_synonyms(self,word):\n",
    "        return [self.syn_group[i][1] for i in self.syn_dict[word]]\n",
    "    \n",
    "    def get_antonyms(self,word):\n",
    "        ant_list = []\n",
    "        for i in self.syn_dict[word]:\n",
    "            ant = self.syn_group[i][-1]\n",
    "            if ant != -1:\n",
    "                ant_list.append(self.syn_group[ant][1])\n",
    "        return ant_list\n",
    "    \n",
    "    def get_class(self, word):\n",
    "        return self.syn_group[self.syn_dict[word][0]][0]\n",
    "        \n"
   ]
  },
  {
   "cell_type": "code",
   "execution_count": 51,
   "metadata": {
    "collapsed": false,
    "scrolled": true
   },
   "outputs": [
    {
     "name": "stdout",
     "output_type": "stream",
     "text": [
      "Antonyms:\n",
      "\n",
      " ['abaçanar', 'assetar', 'assetear', 'caluniar', 'demolir', 'denegrecer', 'denegrir', 'desacreditar', 'desafamar', 'desagaloar', 'desclassificar', 'descreditar', 'desdoirar', 'desdourar', 'deslustrar', 'desmerecer', 'desmoralizar', 'desonestar', 'desonrar', 'detrair', 'detratar', 'difamar', 'enegrecer', 'esquartejar', 'improperar', 'infamar', 'injuriar', 'macular', 'marear', 'quartejar', 'rebaixar', 'setear', 'vituperar']\n",
      "\n",
      " ['enxovalhar', 'impurificar', 'sujar']\n",
      "\n",
      "Synonyms:\n",
      "\n",
      " ['aclarar', 'alumiar', 'clarear', 'iluminar']\n",
      "\n",
      " ['aclarar', 'alumiar', 'delucidar', 'desanuviar', 'desemaranhar', 'desembaraçar', 'dilucidar', 'elucidar', 'esclarecer', 'iluminar', 'ilustrar', 'instruir']\n",
      "\n",
      " ['aclarar', 'descobrir', 'desembaraçar', 'desembrulhar', 'desencobrir', 'desenlaçar', 'desenredar', 'desenvencilhar', 'deslaçar', 'deslindar', 'destrinçar', 'destrinchar', 'desvencilhar', 'desvincilhar', 'esclarecer', 'estriçar', 'resolver', 'solucionar']\n",
      "\n",
      " ['aclarar', 'aclarecer', 'agaloar', 'alumbrar', 'alumiar', 'clarear', 'desenegrecer', 'desentenebrecer', 'desescurecer', 'elogiar', 'enaltar', 'enaltecer', 'esclarecer', 'gabar', 'galonar', 'iluminar', 'louvar']\n",
      "\n",
      " ['abrir', 'aclarar', 'delucidar', 'desatar', 'desvelar', 'dilucidar', 'elucidar', 'enuclear', 'esclarecer', 'explanar', 'explicar', 'expor', 'ilustrar', 'interpretar', 'liquidar', 'liqüidar', 'resolver', 'traduzir']\n",
      "\n",
      " ['abluir', 'aclarar', 'alimpar', 'apurar', 'clarificar', 'dealbar', 'dealvar', 'depurar', 'desenxovalhar', 'emundar', 'escoimar', 'escoriar', 'escorificar', 'expurgar', 'lavar', 'limpar', 'mundificar', 'perlavar', 'purgar', 'purificar']\n",
      "\n",
      " Verbo\n",
      "\n",
      " ['cachorro', 'cão', 'perro']\n"
     ]
    }
   ],
   "source": [
    "t = TEP(\"../base_tep2.txt\")\n",
    "print(\"Antonyms:\")\n",
    "for group in t.get_antonyms(\"aclarar\"):\n",
    "    print(\"\\n\", group)\n",
    "print(\"\\nSynonyms:\")\n",
    "for group in t.get_synonyms(\"aclarar\"):\n",
    "    print(\"\\n\", group)\n",
    "print(\"\\n\",t.get_class(\"aclarar\"))\n",
    "for group in t.get_synonyms(\"cão\"):\n",
    "    print(\"\\n\", group)"
   ]
  },
  {
   "cell_type": "code",
   "execution_count": null,
   "metadata": {
    "collapsed": false
   },
   "outputs": [],
   "source": [
    "freq_dict = {}\n",
    "with open(\"../freq\") as f:\n",
    "    for entry in f:\n",
    "        word, occur = entry.split()\n",
    "        freq_dict[word] = int(occur)"
   ]
  },
  {
   "cell_type": "code",
   "execution_count": null,
   "metadata": {
    "collapsed": false
   },
   "outputs": [],
   "source": [
    "for word in [\"cão\", \"cachorro\"]:\n",
    "        print (freq_dict[word])"
   ]
  },
  {
   "cell_type": "code",
   "execution_count": 36,
   "metadata": {
    "collapsed": false
   },
   "outputs": [],
   "source": [
    "from collections import OrderedDict\n",
    "t = TEP(\"../base_tep2.txt\")\n",
    "def syn_freq(word):\n",
    "    return (OrderedDict({(freq_dict[syn], syn) for syn in syn_set}) for syn_set in t.get_synonyms(word))"
   ]
  },
  {
   "cell_type": "code",
   "execution_count": 52,
   "metadata": {
    "collapsed": false
   },
   "outputs": [
    {
     "name": "stdout",
     "output_type": "stream",
     "text": [
      "119 perro\n",
      "5507 cachorro\n",
      "7469 cão\n"
     ]
    }
   ],
   "source": [
    "for i in syn_freq(\"cão\"):\n",
    "    for j in i:\n",
    "        print(j, i[j])"
   ]
  },
  {
   "cell_type": "code",
   "execution_count": 53,
   "metadata": {
    "collapsed": false
   },
   "outputs": [
    {
     "name": "stdout",
     "output_type": "stream",
     "text": [
      "73332 prova\n",
      "245762 avaliação\n",
      "80866 exame\n",
      "123777 teste\n",
      "20478 verificação\n",
      "1262 averiguação\n",
      "67145 investigação\n",
      "123777 teste\n",
      "13280 apuração\n"
     ]
    }
   ],
   "source": [
    "for i in syn_freq(\"teste\"):\n",
    "    for j in i:\n",
    "        print(j, i[j])"
   ]
  },
  {
   "cell_type": "code",
   "execution_count": 61,
   "metadata": {
    "collapsed": true
   },
   "outputs": [],
   "source": [
    "def most_freq_syn(word):\n",
    "    most_freq = 0\n",
    "    syn = word\n",
    "    for i in syn_freq(word):\n",
    "        for j in i:\n",
    "            if j >= most_freq:\n",
    "                most_freq = j\n",
    "                syn = i[j]\n",
    "    return syn"
   ]
  },
  {
   "cell_type": "code",
   "execution_count": 62,
   "metadata": {
    "collapsed": false
   },
   "outputs": [
    {
     "data": {
      "text/plain": [
       "'avaliação'"
      ]
     },
     "execution_count": 62,
     "metadata": {},
     "output_type": "execute_result"
    }
   ],
   "source": [
    "most_freq_syn(\"teste\")"
   ]
  },
  {
   "cell_type": "code",
   "execution_count": 64,
   "metadata": {
    "collapsed": false
   },
   "outputs": [],
   "source": [
    "a = defaultdict(int)"
   ]
  },
  {
   "cell_type": "code",
   "execution_count": 65,
   "metadata": {
    "collapsed": false
   },
   "outputs": [
    {
     "data": {
      "text/plain": [
       "0"
      ]
     },
     "execution_count": 65,
     "metadata": {},
     "output_type": "execute_result"
    }
   ],
   "source": [
    "a[123]"
   ]
  },
  {
   "cell_type": "code",
   "execution_count": 66,
   "metadata": {
    "collapsed": false
   },
   "outputs": [
    {
     "ename": "SyntaxError",
     "evalue": "invalid syntax (<ipython-input-66-c4cf357aea89>, line 1)",
     "output_type": "error",
     "traceback": [
      "\u001b[0;36m  File \u001b[0;32m\"<ipython-input-66-c4cf357aea89>\"\u001b[0;36m, line \u001b[0;32m1\u001b[0m\n\u001b[0;31m    (a=1,2)\u001b[0m\n\u001b[0m      ^\u001b[0m\n\u001b[0;31mSyntaxError\u001b[0m\u001b[0;31m:\u001b[0m invalid syntax\n"
     ]
    }
   ],
   "source": [
    "(a=1,2)"
   ]
  },
  {
   "cell_type": "code",
   "execution_count": 67,
   "metadata": {
    "collapsed": false
   },
   "outputs": [
    {
     "data": {
      "text/plain": [
       "[defaultdict(int, {123: 0}), 2]"
      ]
     },
     "execution_count": 67,
     "metadata": {},
     "output_type": "execute_result"
    }
   ],
   "source": [
    "a = [a,2]\n",
    "a"
   ]
  },
  {
   "cell_type": "code",
   "execution_count": 68,
   "metadata": {
    "collapsed": true
   },
   "outputs": [],
   "source": [
    "b = 2"
   ]
  },
  {
   "cell_type": "code",
   "execution_count": 74,
   "metadata": {
    "collapsed": true
   },
   "outputs": [],
   "source": [
    "a = [b,2]"
   ]
  },
  {
   "cell_type": "code",
   "execution_count": 75,
   "metadata": {
    "collapsed": false
   },
   "outputs": [
    {
     "data": {
      "text/plain": [
       "[[2], 2]"
      ]
     },
     "execution_count": 75,
     "metadata": {},
     "output_type": "execute_result"
    }
   ],
   "source": [
    "a"
   ]
  },
  {
   "cell_type": "code",
   "execution_count": 76,
   "metadata": {
    "collapsed": true
   },
   "outputs": [],
   "source": [
    "b = 3"
   ]
  },
  {
   "cell_type": "code",
   "execution_count": 77,
   "metadata": {
    "collapsed": false
   },
   "outputs": [
    {
     "data": {
      "text/plain": [
       "[[2], 2]"
      ]
     },
     "execution_count": 77,
     "metadata": {},
     "output_type": "execute_result"
    }
   ],
   "source": [
    "a"
   ]
  },
  {
   "cell_type": "code",
   "execution_count": 78,
   "metadata": {
    "collapsed": true
   },
   "outputs": [],
   "source": [
    "b = [2]"
   ]
  },
  {
   "cell_type": "code",
   "execution_count": null,
   "metadata": {
    "collapsed": true
   },
   "outputs": [],
   "source": [
    "a"
   ]
  }
 ],
 "metadata": {
  "kernelspec": {
   "display_name": "Python 3",
   "language": "python",
   "name": "python3"
  },
  "language_info": {
   "codemirror_mode": {
    "name": "ipython",
    "version": 3
   },
   "file_extension": ".py",
   "mimetype": "text/x-python",
   "name": "python",
   "nbconvert_exporter": "python",
   "pygments_lexer": "ipython3",
   "version": "3.4.3"
  }
 },
 "nbformat": 4,
 "nbformat_minor": 0
}
